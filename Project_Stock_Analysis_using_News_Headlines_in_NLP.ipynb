{
  "nbformat": 4,
  "nbformat_minor": 0,
  "metadata": {
    "colab": {
      "name": "Project-Stock Analysis using News Headlines in NLP",
      "provenance": [],
      "collapsed_sections": [],
      "authorship_tag": "ABX9TyOcHu800g/xEFMJ4k5p3PVX",
      "include_colab_link": true
    },
    "kernelspec": {
      "name": "python3",
      "display_name": "Python 3"
    }
  },
  "cells": [
    {
      "cell_type": "markdown",
      "metadata": {
        "id": "view-in-github",
        "colab_type": "text"
      },
      "source": [
        "<a href=\"https://colab.research.google.com/github/pulkitrajput147/ML-projects/blob/master/Project_Stock_Analysis_using_News_Headlines_in_NLP.ipynb\" target=\"_parent\"><img src=\"https://colab.research.google.com/assets/colab-badge.svg\" alt=\"Open In Colab\"/></a>"
      ]
    },
    {
      "cell_type": "markdown",
      "metadata": {
        "id": "W6Wt57f0-AWq"
      },
      "source": [
        "**Problem- Stock Sentiment Analysis using News Headlines**\r\n"
      ]
    },
    {
      "cell_type": "markdown",
      "metadata": {
        "id": "SF2vFT6C-QFW"
      },
      "source": [
        "**Class1 = the stock price is increased**\r\n",
        "\r\n",
        "**Class2 = the stock price is either decreased or stayed the same**"
      ]
    },
    {
      "cell_type": "code",
      "metadata": {
        "id": "CMgv_qR195hZ"
      },
      "source": [
        "import pandas as pd"
      ],
      "execution_count": null,
      "outputs": []
    },
    {
      "cell_type": "code",
      "metadata": {
        "id": "_HoDDoYw--be"
      },
      "source": [
        "df=pd.read_csv('./Data.csv',encoding=\"ISO-8859-1\")"
      ],
      "execution_count": null,
      "outputs": []
    },
    {
      "cell_type": "code",
      "metadata": {
        "colab": {
          "base_uri": "https://localhost:8080/",
          "height": 502
        },
        "id": "M3uy_jMs_w5g",
        "outputId": "c8d1b753-dfd7-4705-87a8-aa1398d4cebf"
      },
      "source": [
        "df.head(3)"
      ],
      "execution_count": null,
      "outputs": [
        {
          "output_type": "execute_result",
          "data": {
            "text/html": [
              "<div>\n",
              "<style scoped>\n",
              "    .dataframe tbody tr th:only-of-type {\n",
              "        vertical-align: middle;\n",
              "    }\n",
              "\n",
              "    .dataframe tbody tr th {\n",
              "        vertical-align: top;\n",
              "    }\n",
              "\n",
              "    .dataframe thead th {\n",
              "        text-align: right;\n",
              "    }\n",
              "</style>\n",
              "<table border=\"1\" class=\"dataframe\">\n",
              "  <thead>\n",
              "    <tr style=\"text-align: right;\">\n",
              "      <th></th>\n",
              "      <th>Date</th>\n",
              "      <th>Label</th>\n",
              "      <th>Top1</th>\n",
              "      <th>Top2</th>\n",
              "      <th>Top3</th>\n",
              "      <th>Top4</th>\n",
              "      <th>Top5</th>\n",
              "      <th>Top6</th>\n",
              "      <th>Top7</th>\n",
              "      <th>Top8</th>\n",
              "      <th>Top9</th>\n",
              "      <th>Top10</th>\n",
              "      <th>Top11</th>\n",
              "      <th>Top12</th>\n",
              "      <th>Top13</th>\n",
              "      <th>Top14</th>\n",
              "      <th>Top15</th>\n",
              "      <th>Top16</th>\n",
              "      <th>Top17</th>\n",
              "      <th>Top18</th>\n",
              "      <th>Top19</th>\n",
              "      <th>Top20</th>\n",
              "      <th>Top21</th>\n",
              "      <th>Top22</th>\n",
              "      <th>Top23</th>\n",
              "      <th>Top24</th>\n",
              "      <th>Top25</th>\n",
              "    </tr>\n",
              "  </thead>\n",
              "  <tbody>\n",
              "    <tr>\n",
              "      <th>0</th>\n",
              "      <td>2000-01-03</td>\n",
              "      <td>0</td>\n",
              "      <td>A 'hindrance to operations': extracts from the...</td>\n",
              "      <td>Scorecard</td>\n",
              "      <td>Hughes' instant hit buoys Blues</td>\n",
              "      <td>Jack gets his skates on at ice-cold Alex</td>\n",
              "      <td>Chaos as Maracana builds up for United</td>\n",
              "      <td>Depleted Leicester prevail as Elliott spoils E...</td>\n",
              "      <td>Hungry Spurs sense rich pickings</td>\n",
              "      <td>Gunners so wide of an easy target</td>\n",
              "      <td>Derby raise a glass to Strupar's debut double</td>\n",
              "      <td>Southgate strikes, Leeds pay the penalty</td>\n",
              "      <td>Hammers hand Robson a youthful lesson</td>\n",
              "      <td>Saints party like it's 1999</td>\n",
              "      <td>Wear wolves have turned into lambs</td>\n",
              "      <td>Stump mike catches testy Gough's taunt</td>\n",
              "      <td>Langer escapes to hit 167</td>\n",
              "      <td>Flintoff injury piles on woe for England</td>\n",
              "      <td>Hunters threaten Jospin with new battle of the...</td>\n",
              "      <td>Kohl's successor drawn into scandal</td>\n",
              "      <td>The difference between men and women</td>\n",
              "      <td>Sara Denver, nurse turned solicitor</td>\n",
              "      <td>Diana's landmine crusade put Tories in a panic</td>\n",
              "      <td>Yeltsin's resignation caught opposition flat-f...</td>\n",
              "      <td>Russian roulette</td>\n",
              "      <td>Sold out</td>\n",
              "      <td>Recovering a title</td>\n",
              "    </tr>\n",
              "    <tr>\n",
              "      <th>1</th>\n",
              "      <td>2000-01-04</td>\n",
              "      <td>0</td>\n",
              "      <td>Scorecard</td>\n",
              "      <td>The best lake scene</td>\n",
              "      <td>Leader: German sleaze inquiry</td>\n",
              "      <td>Cheerio, boyo</td>\n",
              "      <td>The main recommendations</td>\n",
              "      <td>Has Cubie killed fees?</td>\n",
              "      <td>Has Cubie killed fees?</td>\n",
              "      <td>Has Cubie killed fees?</td>\n",
              "      <td>Hopkins 'furious' at Foster's lack of Hannibal...</td>\n",
              "      <td>Has Cubie killed fees?</td>\n",
              "      <td>A tale of two tails</td>\n",
              "      <td>I say what I like and I like what I say</td>\n",
              "      <td>Elbows, Eyes and Nipples</td>\n",
              "      <td>Task force to assess risk of asteroid collision</td>\n",
              "      <td>How I found myself at last</td>\n",
              "      <td>On the critical list</td>\n",
              "      <td>The timing of their lives</td>\n",
              "      <td>Dear doctor</td>\n",
              "      <td>Irish court halts IRA man's extradition to Nor...</td>\n",
              "      <td>Burundi peace initiative fades after rebels re...</td>\n",
              "      <td>PE points the way forward to the ECB</td>\n",
              "      <td>Campaigners keep up pressure on Nazi war crime...</td>\n",
              "      <td>Jane Ratcliffe</td>\n",
              "      <td>Yet more things you wouldn't know without the ...</td>\n",
              "      <td>Millennium bug fails to bite</td>\n",
              "    </tr>\n",
              "    <tr>\n",
              "      <th>2</th>\n",
              "      <td>2000-01-05</td>\n",
              "      <td>0</td>\n",
              "      <td>Coventry caught on counter by Flo</td>\n",
              "      <td>United's rivals on the road to Rio</td>\n",
              "      <td>Thatcher issues defence before trial by video</td>\n",
              "      <td>Police help Smith lay down the law at Everton</td>\n",
              "      <td>Tale of Trautmann bears two more retellings</td>\n",
              "      <td>England on the rack</td>\n",
              "      <td>Pakistan retaliate with call for video of Walsh</td>\n",
              "      <td>Cullinan continues his Cape monopoly</td>\n",
              "      <td>McGrath puts India out of their misery</td>\n",
              "      <td>Blair Witch bandwagon rolls on</td>\n",
              "      <td>Pele turns up heat on Ferguson</td>\n",
              "      <td>Party divided over Kohl slush fund scandal</td>\n",
              "      <td>Manchester United (England)</td>\n",
              "      <td>Women in record South Pole walk</td>\n",
              "      <td>Vasco da Gama (Brazil)</td>\n",
              "      <td>South Melbourne (Australia)</td>\n",
              "      <td>Necaxa (Mexico)</td>\n",
              "      <td>Real Madrid (Spain)</td>\n",
              "      <td>Raja Casablanca (Morocco)</td>\n",
              "      <td>Corinthians (Brazil)</td>\n",
              "      <td>Tony's pet project</td>\n",
              "      <td>Al Nassr (Saudi Arabia)</td>\n",
              "      <td>Ideal Holmes show</td>\n",
              "      <td>Pinochet leaves hospital after tests</td>\n",
              "      <td>Useful links</td>\n",
              "    </tr>\n",
              "  </tbody>\n",
              "</table>\n",
              "</div>"
            ],
            "text/plain": [
              "         Date  ...                         Top25\n",
              "0  2000-01-03  ...            Recovering a title\n",
              "1  2000-01-04  ...  Millennium bug fails to bite\n",
              "2  2000-01-05  ...                  Useful links\n",
              "\n",
              "[3 rows x 27 columns]"
            ]
          },
          "metadata": {
            "tags": []
          },
          "execution_count": 7
        }
      ]
    },
    {
      "cell_type": "code",
      "metadata": {
        "colab": {
          "base_uri": "https://localhost:8080/"
        },
        "id": "wVV62E2MAHvJ",
        "outputId": "77066b82-642f-4846-f86a-1a3a450b5f6d"
      },
      "source": [
        "df.shape"
      ],
      "execution_count": null,
      "outputs": [
        {
          "output_type": "execute_result",
          "data": {
            "text/plain": [
              "(4101, 27)"
            ]
          },
          "metadata": {
            "tags": []
          },
          "execution_count": 8
        }
      ]
    },
    {
      "cell_type": "code",
      "metadata": {
        "colab": {
          "base_uri": "https://localhost:8080/"
        },
        "id": "95vj0_QYA1vC",
        "outputId": "2ea32d43-93b2-4667-d664-1e1070ce78d5"
      },
      "source": [
        "# checking wheteher the dataset is Balanced or not\r\n",
        "true_count=len(df.loc[df['Label']==True])\r\n",
        "false_count=len(df.loc[df['Label']==False])\r\n",
        "(true_count,false_count)"
      ],
      "execution_count": null,
      "outputs": [
        {
          "output_type": "execute_result",
          "data": {
            "text/plain": [
              "(2166, 1935)"
            ]
          },
          "metadata": {
            "tags": []
          },
          "execution_count": 10
        }
      ]
    },
    {
      "cell_type": "code",
      "metadata": {
        "id": "vG2vhSOsBcOX"
      },
      "source": [
        "train = df[df['Date'] < '20150101']\r\n",
        "test = df[df['Date'] > '20141231']"
      ],
      "execution_count": null,
      "outputs": []
    },
    {
      "cell_type": "code",
      "metadata": {
        "colab": {
          "base_uri": "https://localhost:8080/"
        },
        "id": "flX_X_C1CAd6",
        "outputId": "d9523af9-3ee7-4440-a382-7741d7c43d8a"
      },
      "source": [
        "train.shape"
      ],
      "execution_count": null,
      "outputs": [
        {
          "output_type": "execute_result",
          "data": {
            "text/plain": [
              "(3975, 27)"
            ]
          },
          "metadata": {
            "tags": []
          },
          "execution_count": 15
        }
      ]
    },
    {
      "cell_type": "code",
      "metadata": {
        "colab": {
          "base_uri": "https://localhost:8080/"
        },
        "id": "Jx7XS9JTCCeJ",
        "outputId": "fc9697b5-9800-4604-88fc-4ab11432328d"
      },
      "source": [
        "test.shape"
      ],
      "execution_count": null,
      "outputs": [
        {
          "output_type": "execute_result",
          "data": {
            "text/plain": [
              "(378, 27)"
            ]
          },
          "metadata": {
            "tags": []
          },
          "execution_count": 16
        }
      ]
    },
    {
      "cell_type": "markdown",
      "metadata": {
        "id": "lNKD9kswCiTX"
      },
      "source": [
        "**Feature Engineering**"
      ]
    },
    {
      "cell_type": "code",
      "metadata": {
        "colab": {
          "base_uri": "https://localhost:8080/",
          "height": 250
        },
        "id": "S1amRY6tCHE8",
        "outputId": "ecd47eea-3b68-4b8d-d806-94e45f25ef0c"
      },
      "source": [
        "# Removing Punctuations\r\n",
        "data=train.iloc[:,2:27]\r\n",
        "data.replace(\"[^a-zA-Z]\",\" \",regex=True,inplace=True)\r\n",
        "data.head(2)"
      ],
      "execution_count": null,
      "outputs": [
        {
          "output_type": "execute_result",
          "data": {
            "text/html": [
              "<div>\n",
              "<style scoped>\n",
              "    .dataframe tbody tr th:only-of-type {\n",
              "        vertical-align: middle;\n",
              "    }\n",
              "\n",
              "    .dataframe tbody tr th {\n",
              "        vertical-align: top;\n",
              "    }\n",
              "\n",
              "    .dataframe thead th {\n",
              "        text-align: right;\n",
              "    }\n",
              "</style>\n",
              "<table border=\"1\" class=\"dataframe\">\n",
              "  <thead>\n",
              "    <tr style=\"text-align: right;\">\n",
              "      <th></th>\n",
              "      <th>Top1</th>\n",
              "      <th>Top2</th>\n",
              "      <th>Top3</th>\n",
              "      <th>Top4</th>\n",
              "      <th>Top5</th>\n",
              "      <th>Top6</th>\n",
              "      <th>Top7</th>\n",
              "      <th>Top8</th>\n",
              "      <th>Top9</th>\n",
              "      <th>Top10</th>\n",
              "      <th>Top11</th>\n",
              "      <th>Top12</th>\n",
              "      <th>Top13</th>\n",
              "      <th>Top14</th>\n",
              "      <th>Top15</th>\n",
              "      <th>Top16</th>\n",
              "      <th>Top17</th>\n",
              "      <th>Top18</th>\n",
              "      <th>Top19</th>\n",
              "      <th>Top20</th>\n",
              "      <th>Top21</th>\n",
              "      <th>Top22</th>\n",
              "      <th>Top23</th>\n",
              "      <th>Top24</th>\n",
              "      <th>Top25</th>\n",
              "    </tr>\n",
              "  </thead>\n",
              "  <tbody>\n",
              "    <tr>\n",
              "      <th>0</th>\n",
              "      <td>Ahindrancetooperationsextractsfromtheleakedrep...</td>\n",
              "      <td>Scorecard</td>\n",
              "      <td>HughesinstanthitbuoysBlues</td>\n",
              "      <td>JackgetshisskatesonaticecoldAlex</td>\n",
              "      <td>ChaosasMaracanabuildsupforUnited</td>\n",
              "      <td>DepletedLeicesterprevailasElliottspoilsEverton...</td>\n",
              "      <td>HungrySpurssenserichpickings</td>\n",
              "      <td>Gunnerssowideofaneasytarget</td>\n",
              "      <td>DerbyraiseaglasstoStruparsdebutdouble</td>\n",
              "      <td>SouthgatestrikesLeedspaythepenalty</td>\n",
              "      <td>HammershandRobsonayouthfullesson</td>\n",
              "      <td>Saintspartylikeits</td>\n",
              "      <td>Wearwolveshaveturnedintolambs</td>\n",
              "      <td>StumpmikecatchestestyGoughstaunt</td>\n",
              "      <td>Langerescapestohit</td>\n",
              "      <td>FlintoffinjurypilesonwoeforEngland</td>\n",
              "      <td>HuntersthreatenJospinwithnewbattleoftheSomme</td>\n",
              "      <td>Kohlssuccessordrawnintoscandal</td>\n",
              "      <td>Thedifferencebetweenmenandwomen</td>\n",
              "      <td>SaraDenvernurseturnedsolicitor</td>\n",
              "      <td>DianaslandminecrusadeputToriesinapanic</td>\n",
              "      <td>Yeltsinsresignationcaughtoppositionflatfooted</td>\n",
              "      <td>Russianroulette</td>\n",
              "      <td>Soldout</td>\n",
              "      <td>Recoveringatitle</td>\n",
              "    </tr>\n",
              "    <tr>\n",
              "      <th>1</th>\n",
              "      <td>Scorecard</td>\n",
              "      <td>The best lake scene</td>\n",
              "      <td>Leader  German sleaze inquiry</td>\n",
              "      <td>Cheerio  boyo</td>\n",
              "      <td>The main recommendations</td>\n",
              "      <td>Has Cubie killed fees</td>\n",
              "      <td>Has Cubie killed fees</td>\n",
              "      <td>Has Cubie killed fees</td>\n",
              "      <td>Hopkins  furious  at Foster s lack of Hannibal...</td>\n",
              "      <td>Has Cubie killed fees</td>\n",
              "      <td>A tale of two tails</td>\n",
              "      <td>I say what I like and I like what I say</td>\n",
              "      <td>Elbows  Eyes and Nipples</td>\n",
              "      <td>Task force to assess risk of asteroid collision</td>\n",
              "      <td>How I found myself at last</td>\n",
              "      <td>On the critical list</td>\n",
              "      <td>The timing of their lives</td>\n",
              "      <td>Dear doctor</td>\n",
              "      <td>Irish court halts IRA man s extradition to Nor...</td>\n",
              "      <td>Burundi peace initiative fades after rebels re...</td>\n",
              "      <td>PE points the way forward to the ECB</td>\n",
              "      <td>Campaigners keep up pressure on Nazi war crime...</td>\n",
              "      <td>Jane Ratcliffe</td>\n",
              "      <td>Yet more things you wouldn t know without the ...</td>\n",
              "      <td>Millennium bug fails to bite</td>\n",
              "    </tr>\n",
              "  </tbody>\n",
              "</table>\n",
              "</div>"
            ],
            "text/plain": [
              "                                                Top1  ...                         Top25\n",
              "0  Ahindrancetooperationsextractsfromtheleakedrep...  ...              Recoveringatitle\n",
              "1                                          Scorecard  ...  Millennium bug fails to bite\n",
              "\n",
              "[2 rows x 25 columns]"
            ]
          },
          "metadata": {
            "tags": []
          },
          "execution_count": 29
        }
      ]
    },
    {
      "cell_type": "code",
      "metadata": {
        "colab": {
          "base_uri": "https://localhost:8080/",
          "height": 250
        },
        "id": "3CXtEB21DQaO",
        "outputId": "a57f8968-a57b-48b1-efeb-e259706001ca"
      },
      "source": [
        "#removing column names for ease of access\r\n",
        "list1=[i for i in range(25)]\r\n",
        "new_index=[str(i) for i in list1]\r\n",
        "data.columns=new_index\r\n",
        "data.head(2) "
      ],
      "execution_count": null,
      "outputs": [
        {
          "output_type": "execute_result",
          "data": {
            "text/html": [
              "<div>\n",
              "<style scoped>\n",
              "    .dataframe tbody tr th:only-of-type {\n",
              "        vertical-align: middle;\n",
              "    }\n",
              "\n",
              "    .dataframe tbody tr th {\n",
              "        vertical-align: top;\n",
              "    }\n",
              "\n",
              "    .dataframe thead th {\n",
              "        text-align: right;\n",
              "    }\n",
              "</style>\n",
              "<table border=\"1\" class=\"dataframe\">\n",
              "  <thead>\n",
              "    <tr style=\"text-align: right;\">\n",
              "      <th></th>\n",
              "      <th>0</th>\n",
              "      <th>1</th>\n",
              "      <th>2</th>\n",
              "      <th>3</th>\n",
              "      <th>4</th>\n",
              "      <th>5</th>\n",
              "      <th>6</th>\n",
              "      <th>7</th>\n",
              "      <th>8</th>\n",
              "      <th>9</th>\n",
              "      <th>10</th>\n",
              "      <th>11</th>\n",
              "      <th>12</th>\n",
              "      <th>13</th>\n",
              "      <th>14</th>\n",
              "      <th>15</th>\n",
              "      <th>16</th>\n",
              "      <th>17</th>\n",
              "      <th>18</th>\n",
              "      <th>19</th>\n",
              "      <th>20</th>\n",
              "      <th>21</th>\n",
              "      <th>22</th>\n",
              "      <th>23</th>\n",
              "      <th>24</th>\n",
              "    </tr>\n",
              "  </thead>\n",
              "  <tbody>\n",
              "    <tr>\n",
              "      <th>0</th>\n",
              "      <td>Ahindrancetooperationsextractsfromtheleakedrep...</td>\n",
              "      <td>Scorecard</td>\n",
              "      <td>HughesinstanthitbuoysBlues</td>\n",
              "      <td>JackgetshisskatesonaticecoldAlex</td>\n",
              "      <td>ChaosasMaracanabuildsupforUnited</td>\n",
              "      <td>DepletedLeicesterprevailasElliottspoilsEverton...</td>\n",
              "      <td>HungrySpurssenserichpickings</td>\n",
              "      <td>Gunnerssowideofaneasytarget</td>\n",
              "      <td>DerbyraiseaglasstoStruparsdebutdouble</td>\n",
              "      <td>SouthgatestrikesLeedspaythepenalty</td>\n",
              "      <td>HammershandRobsonayouthfullesson</td>\n",
              "      <td>Saintspartylikeits</td>\n",
              "      <td>Wearwolveshaveturnedintolambs</td>\n",
              "      <td>StumpmikecatchestestyGoughstaunt</td>\n",
              "      <td>Langerescapestohit</td>\n",
              "      <td>FlintoffinjurypilesonwoeforEngland</td>\n",
              "      <td>HuntersthreatenJospinwithnewbattleoftheSomme</td>\n",
              "      <td>Kohlssuccessordrawnintoscandal</td>\n",
              "      <td>Thedifferencebetweenmenandwomen</td>\n",
              "      <td>SaraDenvernurseturnedsolicitor</td>\n",
              "      <td>DianaslandminecrusadeputToriesinapanic</td>\n",
              "      <td>Yeltsinsresignationcaughtoppositionflatfooted</td>\n",
              "      <td>Russianroulette</td>\n",
              "      <td>Soldout</td>\n",
              "      <td>Recoveringatitle</td>\n",
              "    </tr>\n",
              "    <tr>\n",
              "      <th>1</th>\n",
              "      <td>Scorecard</td>\n",
              "      <td>The best lake scene</td>\n",
              "      <td>Leader  German sleaze inquiry</td>\n",
              "      <td>Cheerio  boyo</td>\n",
              "      <td>The main recommendations</td>\n",
              "      <td>Has Cubie killed fees</td>\n",
              "      <td>Has Cubie killed fees</td>\n",
              "      <td>Has Cubie killed fees</td>\n",
              "      <td>Hopkins  furious  at Foster s lack of Hannibal...</td>\n",
              "      <td>Has Cubie killed fees</td>\n",
              "      <td>A tale of two tails</td>\n",
              "      <td>I say what I like and I like what I say</td>\n",
              "      <td>Elbows  Eyes and Nipples</td>\n",
              "      <td>Task force to assess risk of asteroid collision</td>\n",
              "      <td>How I found myself at last</td>\n",
              "      <td>On the critical list</td>\n",
              "      <td>The timing of their lives</td>\n",
              "      <td>Dear doctor</td>\n",
              "      <td>Irish court halts IRA man s extradition to Nor...</td>\n",
              "      <td>Burundi peace initiative fades after rebels re...</td>\n",
              "      <td>PE points the way forward to the ECB</td>\n",
              "      <td>Campaigners keep up pressure on Nazi war crime...</td>\n",
              "      <td>Jane Ratcliffe</td>\n",
              "      <td>Yet more things you wouldn t know without the ...</td>\n",
              "      <td>Millennium bug fails to bite</td>\n",
              "    </tr>\n",
              "  </tbody>\n",
              "</table>\n",
              "</div>"
            ],
            "text/plain": [
              "                                                   0  ...                            24\n",
              "0  Ahindrancetooperationsextractsfromtheleakedrep...  ...              Recoveringatitle\n",
              "1                                          Scorecard  ...  Millennium bug fails to bite\n",
              "\n",
              "[2 rows x 25 columns]"
            ]
          },
          "metadata": {
            "tags": []
          },
          "execution_count": 30
        }
      ]
    },
    {
      "cell_type": "code",
      "metadata": {
        "colab": {
          "base_uri": "https://localhost:8080/",
          "height": 100
        },
        "id": "Dv3dCuCzEaw1",
        "outputId": "99d49d23-523a-4b28-efb6-f5a6ace03f65"
      },
      "source": [
        "# Converting the Headlines to lower case\r\n",
        "for i in new_index:\r\n",
        "  data[i]=data[i].str.lower()\r\n",
        "data.head(1)   "
      ],
      "execution_count": null,
      "outputs": [
        {
          "output_type": "execute_result",
          "data": {
            "text/html": [
              "<div>\n",
              "<style scoped>\n",
              "    .dataframe tbody tr th:only-of-type {\n",
              "        vertical-align: middle;\n",
              "    }\n",
              "\n",
              "    .dataframe tbody tr th {\n",
              "        vertical-align: top;\n",
              "    }\n",
              "\n",
              "    .dataframe thead th {\n",
              "        text-align: right;\n",
              "    }\n",
              "</style>\n",
              "<table border=\"1\" class=\"dataframe\">\n",
              "  <thead>\n",
              "    <tr style=\"text-align: right;\">\n",
              "      <th></th>\n",
              "      <th>0</th>\n",
              "      <th>1</th>\n",
              "      <th>2</th>\n",
              "      <th>3</th>\n",
              "      <th>4</th>\n",
              "      <th>5</th>\n",
              "      <th>6</th>\n",
              "      <th>7</th>\n",
              "      <th>8</th>\n",
              "      <th>9</th>\n",
              "      <th>10</th>\n",
              "      <th>11</th>\n",
              "      <th>12</th>\n",
              "      <th>13</th>\n",
              "      <th>14</th>\n",
              "      <th>15</th>\n",
              "      <th>16</th>\n",
              "      <th>17</th>\n",
              "      <th>18</th>\n",
              "      <th>19</th>\n",
              "      <th>20</th>\n",
              "      <th>21</th>\n",
              "      <th>22</th>\n",
              "      <th>23</th>\n",
              "      <th>24</th>\n",
              "    </tr>\n",
              "  </thead>\n",
              "  <tbody>\n",
              "    <tr>\n",
              "      <th>0</th>\n",
              "      <td>ahindrancetooperationsextractsfromtheleakedrep...</td>\n",
              "      <td>scorecard</td>\n",
              "      <td>hughesinstanthitbuoysblues</td>\n",
              "      <td>jackgetshisskatesonaticecoldalex</td>\n",
              "      <td>chaosasmaracanabuildsupforunited</td>\n",
              "      <td>depletedleicesterprevailaselliottspoilseverton...</td>\n",
              "      <td>hungryspurssenserichpickings</td>\n",
              "      <td>gunnerssowideofaneasytarget</td>\n",
              "      <td>derbyraiseaglasstostruparsdebutdouble</td>\n",
              "      <td>southgatestrikesleedspaythepenalty</td>\n",
              "      <td>hammershandrobsonayouthfullesson</td>\n",
              "      <td>saintspartylikeits</td>\n",
              "      <td>wearwolveshaveturnedintolambs</td>\n",
              "      <td>stumpmikecatchestestygoughstaunt</td>\n",
              "      <td>langerescapestohit</td>\n",
              "      <td>flintoffinjurypilesonwoeforengland</td>\n",
              "      <td>huntersthreatenjospinwithnewbattleofthesomme</td>\n",
              "      <td>kohlssuccessordrawnintoscandal</td>\n",
              "      <td>thedifferencebetweenmenandwomen</td>\n",
              "      <td>saradenvernurseturnedsolicitor</td>\n",
              "      <td>dianaslandminecrusadeputtoriesinapanic</td>\n",
              "      <td>yeltsinsresignationcaughtoppositionflatfooted</td>\n",
              "      <td>russianroulette</td>\n",
              "      <td>soldout</td>\n",
              "      <td>recoveringatitle</td>\n",
              "    </tr>\n",
              "  </tbody>\n",
              "</table>\n",
              "</div>"
            ],
            "text/plain": [
              "                                                   0  ...                24\n",
              "0  ahindrancetooperationsextractsfromtheleakedrep...  ...  recoveringatitle\n",
              "\n",
              "[1 rows x 25 columns]"
            ]
          },
          "metadata": {
            "tags": []
          },
          "execution_count": 31
        }
      ]
    },
    {
      "cell_type": "code",
      "metadata": {
        "id": "IFBzv6A4FkyP"
      },
      "source": [
        "# we have to convert all the news of a particular row in a single paragraph in order to apply tfidf\r\n",
        "headlines=[]\r\n",
        "for i in range(0,len(data.index)):\r\n",
        "  headlines.append(' '.join(str(x) for x in data.iloc[i,0:25])) "
      ],
      "execution_count": null,
      "outputs": []
    },
    {
      "cell_type": "code",
      "metadata": {
        "colab": {
          "base_uri": "https://localhost:8080/",
          "height": 103
        },
        "id": "OdQIEolnIBO9",
        "outputId": "11334162-a57a-41f2-d815-e8269dcab55d"
      },
      "source": [
        "headlines[0]"
      ],
      "execution_count": null,
      "outputs": [
        {
          "output_type": "execute_result",
          "data": {
            "application/vnd.google.colaboratory.intrinsic+json": {
              "type": "string"
            },
            "text/plain": [
              "'ahindrancetooperationsextractsfromtheleakedreports scorecard hughesinstanthitbuoysblues jackgetshisskatesonaticecoldalex chaosasmaracanabuildsupforunited depletedleicesterprevailaselliottspoilsevertonsparty hungryspurssenserichpickings gunnerssowideofaneasytarget derbyraiseaglasstostruparsdebutdouble southgatestrikesleedspaythepenalty hammershandrobsonayouthfullesson saintspartylikeits wearwolveshaveturnedintolambs stumpmikecatchestestygoughstaunt langerescapestohit flintoffinjurypilesonwoeforengland huntersthreatenjospinwithnewbattleofthesomme kohlssuccessordrawnintoscandal thedifferencebetweenmenandwomen saradenvernurseturnedsolicitor dianaslandminecrusadeputtoriesinapanic yeltsinsresignationcaughtoppositionflatfooted russianroulette soldout recoveringatitle'"
            ]
          },
          "metadata": {
            "tags": []
          },
          "execution_count": 33
        }
      ]
    },
    {
      "cell_type": "code",
      "metadata": {
        "id": "EFJmsd27I-QR"
      },
      "source": [
        "from sklearn.feature_extraction.text import CountVectorizer\r\n",
        "from sklearn.ensemble import RandomForestClassifier"
      ],
      "execution_count": null,
      "outputs": []
    },
    {
      "cell_type": "code",
      "metadata": {
        "id": "0ZLfs3N7Jj2_"
      },
      "source": [
        "# Applying Bag of Words\r\n",
        "countvector=CountVectorizer(ngram_range=(2,2),max_features=5000)\r\n",
        "traindataset=countvector.fit_transform(headlines)"
      ],
      "execution_count": null,
      "outputs": []
    },
    {
      "cell_type": "code",
      "metadata": {
        "colab": {
          "base_uri": "https://localhost:8080/"
        },
        "id": "MW49mXKEKTh1",
        "outputId": "e93be27f-c8ff-4adf-a45e-8b1389727c1e"
      },
      "source": [
        "# Implementing RandomforestClassifier\r\n",
        "model=RandomForestClassifier(n_estimators=200,criterion='entropy')\r\n",
        "model.fit(traindataset,train['Label'])"
      ],
      "execution_count": null,
      "outputs": [
        {
          "output_type": "execute_result",
          "data": {
            "text/plain": [
              "RandomForestClassifier(bootstrap=True, ccp_alpha=0.0, class_weight=None,\n",
              "                       criterion='entropy', max_depth=None, max_features='auto',\n",
              "                       max_leaf_nodes=None, max_samples=None,\n",
              "                       min_impurity_decrease=0.0, min_impurity_split=None,\n",
              "                       min_samples_leaf=1, min_samples_split=2,\n",
              "                       min_weight_fraction_leaf=0.0, n_estimators=200,\n",
              "                       n_jobs=None, oob_score=False, random_state=None,\n",
              "                       verbose=0, warm_start=False)"
            ]
          },
          "metadata": {
            "tags": []
          },
          "execution_count": 47
        }
      ]
    },
    {
      "cell_type": "code",
      "metadata": {
        "id": "mecqd-l7L9p8"
      },
      "source": [
        "#prediction for test dataset\r\n",
        "test_transform=[]\r\n",
        "for i in range(0,len(test.index)):\r\n",
        "  test_transform.append(' '.join(str(x) for x in test.iloc[i,2:27])) \r\n",
        "test_dataset=countvector.transform(test_transform) \r\n",
        "prediction=model.predict(test_dataset) \r\n",
        "prediction=model.predict(test_dataset) "
      ],
      "execution_count": null,
      "outputs": []
    },
    {
      "cell_type": "code",
      "metadata": {
        "colab": {
          "base_uri": "https://localhost:8080/"
        },
        "id": "cXZkAdtpNgbr",
        "outputId": "c107a9e5-9e73-470b-e3a3-7302de6a4980"
      },
      "source": [
        "# Checking the accuracy of the model\r\n",
        "from sklearn.metrics import classification_report,accuracy_score\r\n",
        "accuracy_score(test['Label'],prediction)"
      ],
      "execution_count": null,
      "outputs": [
        {
          "output_type": "execute_result",
          "data": {
            "text/plain": [
              "0.8333333333333334"
            ]
          },
          "metadata": {
            "tags": []
          },
          "execution_count": 54
        }
      ]
    },
    {
      "cell_type": "code",
      "metadata": {
        "id": "XHDY_0ZVUF__"
      },
      "source": [
        ""
      ],
      "execution_count": null,
      "outputs": []
    }
  ]
}